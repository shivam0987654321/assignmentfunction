{
 "cells": [
  {
   "cell_type": "code",
   "execution_count": 25,
   "id": "ff8fd6fc",
   "metadata": {},
   "outputs": [
    {
     "name": "stdout",
     "output_type": "stream",
     "text": [
      "please enter the side 1  500\n",
      "please enter the side 2  3\n",
      "please enter the side 3  4\n",
      "Not a valid triangle\n"
     ]
    }
   ],
   "source": [
    "#Write a Python Program to find the area of the triangle using the below formula.\n",
    "a = int(input(\"please enter the side 1  \"))\n",
    "b = int(input(\"please enter the side 2  \"))\n",
    "c = int(input(\"please enter the side 3  \"))\n",
    "\n",
    "def calarea(a,b,sic):\n",
    "    if (a < 0 or b < 0 or c < 0 or (a+b <= c) or (a+c <=b) or (b+c <=a) ):\n",
    "        print('Not a valid triangle')\n",
    "        return\n",
    "    \n",
    "    \n",
    "    s = (a + b + c) /2\n",
    "    area=(s * (s - a) * (s - b) * (s - c)) ** 0.5\n",
    "\n",
    "    return area\n",
    "\n",
    "calarea(a,b,c)\n",
    "\n",
    "    \n",
    "    "
   ]
  },
  {
   "cell_type": "markdown",
   "id": "1ab92ff8",
   "metadata": {},
   "source": [
    "Write a function filter_long_words() that takes a list of words and an integer n and returns\n",
    "the list of words that are longer than n."
   ]
  },
  {
   "cell_type": "code",
   "execution_count": 78,
   "id": "c4415c20",
   "metadata": {},
   "outputs": [
    {
     "name": "stdout",
     "output_type": "stream",
     "text": [
      "please enter the number of words you want to keep in list5\n",
      "please enter your words now sndksnakldnkasnd\n",
      "please enter your words now nsdksnd\n",
      "please enter your words now nd\n",
      "please enter your words now nsdajnjs\n",
      "please enter your words now knfdlanflknasknfknakfnasknfkansfknsakfaksnf\n",
      "please enter the word limit5\n"
     ]
    },
    {
     "data": {
      "text/plain": [
       "['sndksnakldnkasnd',\n",
       " 'nsdksnd',\n",
       " 'nsdajnjs',\n",
       " 'knfdlanflknasknfknakfnasknfkansfknsakfaksnf']"
      ]
     },
     "execution_count": 78,
     "metadata": {},
     "output_type": "execute_result"
    }
   ],
   "source": [
    "a = int(input(\"please enter the number of words you want to keep in list\"))\n",
    "c=[]\n",
    "d=[]\n",
    "for i in range(a) :\n",
    "    b = input(\"please enter your words now \")\n",
    "    c.append(b)\n",
    "p = int(input(\"please enter the word limit\"))\n",
    "def filter_long_words(c,p):\n",
    "    for i in c :\n",
    "        if len(i)>p:\n",
    "            d.append(i)\n",
    "        else:\n",
    "            continue\n",
    "    return d\n",
    "filter_long_words(c,p)"
   ]
  },
  {
   "cell_type": "markdown",
   "id": "d1afa5fc",
   "metadata": {},
   "source": [
    "Write a Python program using function concept that maps list of words into a list of integers\n",
    "representing the lengths of the corresponding words."
   ]
  },
  {
   "cell_type": "code",
   "execution_count": 79,
   "id": "717f79a5",
   "metadata": {},
   "outputs": [
    {
     "name": "stdout",
     "output_type": "stream",
     "text": [
      "please enter the number of words you want to keep in list5\n",
      "please enter your words now ajdjasjd\n",
      "please enter your words now nadnfjkadjf\n",
      "please enter your words now bajkfbjs\n",
      "please enter your words now kfnalnfn\n",
      "please enter your words now dss\n"
     ]
    },
    {
     "data": {
      "text/plain": [
       "[8, 11, 8, 8, 3]"
      ]
     },
     "execution_count": 79,
     "metadata": {},
     "output_type": "execute_result"
    }
   ],
   "source": [
    "a = int(input(\"please enter the number of words you want to keep in list\"))\n",
    "c=[]\n",
    "d=[]\n",
    "for i in range(a) :\n",
    "    b = input(\"please enter your words now \")\n",
    "    c.append(b)\n",
    "def counting(c):\n",
    "    for i in c :\n",
    "        d.append(len(i))\n",
    "    return d\n",
    "counting(c)"
   ]
  },
  {
   "cell_type": "markdown",
   "id": "e26e5c94",
   "metadata": {},
   "source": [
    "Write a Python function which takes a character (i.e. a string of length 1) and returns True if\n",
    "it is a vowel, False otherwise."
   ]
  },
  {
   "cell_type": "code",
   "execution_count": 85,
   "id": "4506ea35",
   "metadata": {},
   "outputs": [
    {
     "name": "stdout",
     "output_type": "stream",
     "text": [
      "please enter the charactersandjsnd\n"
     ]
    },
    {
     "data": {
      "text/plain": [
       "False"
      ]
     },
     "execution_count": 85,
     "metadata": {},
     "output_type": "execute_result"
    }
   ],
   "source": [
    "a = input(\"please enter the character\")\n",
    "def vowels(a):\n",
    "    if a == \"a\" or a == \"e\" or a==\"i\" or a==\"o\" or a==\"u\":\n",
    "        return True \n",
    "    else:\n",
    "        return False\n",
    "vowels(a)"
   ]
  },
  {
   "cell_type": "code",
   "execution_count": null,
   "id": "db427c5e",
   "metadata": {},
   "outputs": [],
   "source": []
  },
  {
   "cell_type": "code",
   "execution_count": null,
   "id": "e57189ee",
   "metadata": {},
   "outputs": [],
   "source": []
  }
 ],
 "metadata": {
  "kernelspec": {
   "display_name": "Python 3 (ipykernel)",
   "language": "python",
   "name": "python3"
  },
  "language_info": {
   "codemirror_mode": {
    "name": "ipython",
    "version": 3
   },
   "file_extension": ".py",
   "mimetype": "text/x-python",
   "name": "python",
   "nbconvert_exporter": "python",
   "pygments_lexer": "ipython3",
   "version": "3.9.7"
  }
 },
 "nbformat": 4,
 "nbformat_minor": 5
}
